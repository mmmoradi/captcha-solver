{
 "cells": [
  {
   "cell_type": "markdown",
   "metadata": {
    "id": "dvMzcgbYxW-z"
   },
   "source": [
    "# Captcha Solver\n"
   ]
  },
  {
   "cell_type": "markdown",
   "metadata": {},
   "source": [
    "## Samples\n",
    "\n",
    "- https://keras.io/examples/vision/captcha_ocr\n",
    "\n",
    "- https://virgool.io/dataio/how-to-break-a-golestan-captcha-system-with-machine-learning-kukzjnwwsqdx\n",
    "\n",
    "- https://github.com/AmirH-Moosavi/Golestan\n",
    "\n",
    "- https://pyimagesearch.com/2021/07/14/breaking-captchas-with-deep-learning-keras-and-tensorflow/\n",
    "\n",
    "- https://medium.com/@ageitgey/how-to-break-a-captcha-system-in-15-minutes-with-machine-learning-dbebb035a710"
   ]
  },
  {
   "cell_type": "markdown",
   "metadata": {},
   "source": [
    "## OpenCV\n",
    "\n",
    "main site: https://opencv.org\n",
    "\n",
    "docs site: https://docs.opencv.org\n",
    "\n",
    "Note: C++ and Python docs are mixed.\n",
    "\n",
    "OpenCV 4.10.0 tutorial for Python:\n",
    "https://docs.opencv.org/4.10.0/d6/d00/tutorial_py_root.html\n",
    "\n",
    "\n",
    "### remove noise and lines:\n",
    "\n",
    "[Image Thresholding](https://docs.opencv.org/4.10.0/d7/d4d/tutorial_py_thresholding.html)\n",
    "\n",
    "[Morphological Transformations](https://docs.opencv.org/4.10.0/d9/d61/tutorial_py_morphological_ops.html)\n",
    "\n",
    "[Smoothing Images](https://docs.opencv.org/4.10.0/d4/d13/tutorial_py_filtering.html)\n",
    "\n",
    "https://stackoverflow.com/questions/71425968/remove-horizontal-lines-with-open-cv\n",
    "\n",
    "\n",
    "image binarization\n"
   ]
  },
  {
   "cell_type": "markdown",
   "metadata": {},
   "source": [
    "## Basic concepts\n",
    "\n",
    "\n",
    "- Gradient descent\n",
    "- Batch Gradient Descent\n",
    "- Mini Batch Gradient Descent\n",
    "- Stochastic gradient descent\n",
    "\n",
    "### loss function\n",
    "\n",
    "### backpropagation\n",
    "\n",
    "### Optimizers\n",
    "\n",
    "https://keras.io/api/optimizers/\n",
    "\n",
    "- SGD\n",
    "- Adagrad\n",
    "- Adadelta\n",
    "- RMSprop\n",
    "- Adam\n",
    "- Nadam"
   ]
  },
  {
   "cell_type": "markdown",
   "metadata": {},
   "source": [
    "## Keras\n",
    "\n",
    "### Model training \n",
    "\n",
    "https://keras.io/api/models/model_training_apis/\n",
    "\n",
    "### Callbacks \n",
    "\n",
    "https://keras.io/api/callbacks/\n",
    "\n",
    "- `ModelCheckpoint`\n",
    "- `EarlyStopping`\n",
    "- `ReduceLROnPlateau`\n",
    "\n",
    "### Metrics\n",
    "\n",
    "https://keras.io/api/metrics/\n",
    "\n",
    "### Saving Model\n",
    "Two ways to save and load keras model:\n",
    "\n",
    "- [ModelCheckpoint](https://keras.io/api/callbacks/model_checkpoint): Callback to save the Keras model or model weights at some frequency.\n",
    "\n",
    "\n",
    "- [Whole model saving & loading](https://keras.io/api/models/model_saving_apis/model_saving_and_loading): Saves a model as a .keras file.\n",
    "\n",
    "  ```python\n",
    "  import keras\n",
    "\n",
    "  model = keras.Sequential(\n",
    "      [\n",
    "          keras.layers.Dense(5, input_shape=(3,)),\n",
    "          keras.layers.Softmax(),\n",
    "      ],\n",
    "  )\n",
    "  # saving\n",
    "  model.save(\"model.keras\")\n",
    "  # loading\n",
    "  loaded_model = keras.saving.load_model(\"model.keras\")\n",
    "\n",
    "  x = keras.random.uniform((10, 3))\n",
    "  assert np.allclose(model.predict(x), loaded_model.predict(x))\n",
    "  ```"
   ]
  },
  {
   "cell_type": "markdown",
   "metadata": {},
   "source": [
    "## TensorFlow\n",
    "\n",
    "https://www.tensorflow.org/install/pip\n",
    "\n",
    "limiting GPU memory usage:\n",
    "\n",
    "https://www.tensorflow.org/guide/gpu#limiting_gpu_memory_growth\n"
   ]
  },
  {
   "cell_type": "markdown",
   "metadata": {},
   "source": [
    "## Install pakages\n",
    "\n",
    "```shell\n",
    "conda create -n menv python=3.10\n",
    "\n",
    "pip install matplotlib numpy pandas opencv-python  keras tensorflow[and-cuda]\n",
    "\n",
    "```\n",
    "\n"
   ]
  },
  {
   "cell_type": "markdown",
   "metadata": {
    "id": "tSDr0VNv0mX6"
   },
   "source": [
    "## Colab"
   ]
  },
  {
   "cell_type": "code",
   "execution_count": null,
   "metadata": {
    "colab": {
     "base_uri": "https://localhost:8080/",
     "height": 324
    },
    "executionInfo": {
     "elapsed": 71524,
     "status": "error",
     "timestamp": 1727170825657,
     "user": {
      "displayName": "Mohammad Mahdi Moradi",
      "userId": "14020835665324614564"
     },
     "user_tz": -210
    },
    "id": "ZsNgvuHo_v1T",
    "outputId": "ea272de4-c71b-4867-ee44-fdeba1a4c792"
   },
   "outputs": [],
   "source": [
    "# Mount Drive in Colab\n",
    "from google.colab import drive\n",
    "drive.mount('/content/drive/')"
   ]
  },
  {
   "cell_type": "code",
   "execution_count": null,
   "metadata": {
    "colab": {
     "base_uri": "https://localhost:8080/"
    },
    "executionInfo": {
     "elapsed": 620,
     "status": "ok",
     "timestamp": 1726088600779,
     "user": {
      "displayName": "Mohammad Mahdi Moradi",
      "userId": "14020835665324614564"
     },
     "user_tz": -210
    },
    "id": "n4Z44L9oDS_j",
    "outputId": "412056d0-3cec-4d53-d62a-77db981422e6"
   },
   "outputs": [],
   "source": [
    "%cd \"/content/drive/MyDrive/Colab Notebooks/captcha\""
   ]
  },
  {
   "cell_type": "markdown",
   "metadata": {
    "id": "WQl5YHS0szs4"
   },
   "source": [
    "## imports"
   ]
  },
  {
   "cell_type": "code",
   "execution_count": null,
   "metadata": {
    "id": "eqtM7pN3WHtB"
   },
   "outputs": [],
   "source": [
    "# Global\n",
    "import numpy as np\n",
    "import matplotlib.pyplot as plt\n",
    "\n",
    "# for Preprocessing\n",
    "import cv2 as cv\n",
    "\n",
    "# for Dataset\n",
    "import gzip\n",
    "import struct\n",
    "import pandas as pd\n",
    "\n",
    "# for Neural Network\n",
    "import tensorflow as tf\n",
    "import keras\n",
    "\n",
    "from tensorflow.keras.callbacks import EarlyStopping, ReduceLROnPlateau,ModelCheckpoint\n",
    "from sklearn.model_selection import train_test_split\n",
    "\n",
    "from preprocessing import *"
   ]
  },
  {
   "cell_type": "code",
   "execution_count": null,
   "metadata": {},
   "outputs": [],
   "source": [
    "gpus = tf.config.list_physical_devices('GPU')\n",
    "if gpus:\n",
    "  # Restrict TensorFlow to only allocate 1GB of memory on the first GPU\n",
    "  try:\n",
    "    tf.config.set_logical_device_configuration(\n",
    "        gpus[0],\n",
    "        [tf.config.LogicalDeviceConfiguration(memory_limit=1024)])\n",
    "    logical_gpus = tf.config.list_logical_devices('GPU')\n",
    "    print(len(gpus), \"Physical GPUs,\", len(logical_gpus), \"Logical GPUs\")\n",
    "  except RuntimeError as e:\n",
    "    # Virtual devices must be set before GPUs have been initialized\n",
    "    print(e)"
   ]
  },
  {
   "cell_type": "markdown",
   "metadata": {
    "id": "5KzDjUimsQE3"
   },
   "source": [
    "## Captcha Preprocessing"
   ]
  },
  {
   "cell_type": "code",
   "execution_count": null,
   "metadata": {
    "id": "oZN6JYeP6URP"
   },
   "outputs": [],
   "source": [
    "image = cv.imread(\"dataset/captchas/00053.gif\")"
   ]
  },
  {
   "cell_type": "code",
   "execution_count": null,
   "metadata": {
    "colab": {
     "base_uri": "https://localhost:8080/",
     "height": 261
    },
    "executionInfo": {
     "elapsed": 645,
     "status": "ok",
     "timestamp": 1725480829319,
     "user": {
      "displayName": "Mohammad Mahdi Moradi",
      "userId": "14020835665324614564"
     },
     "user_tz": -210
    },
    "id": "4uJd0ZQiu3lI",
    "outputId": "3ee122b7-8fb8-4a2e-980f-615e07ca307f"
   },
   "outputs": [],
   "source": [
    "plt.imshow(image)\n",
    "plt.show()"
   ]
  },
  {
   "cell_type": "code",
   "execution_count": null,
   "metadata": {},
   "outputs": [],
   "source": [
    "F1 = filter1(image)\n",
    "F2 = filter2(image)"
   ]
  },
  {
   "cell_type": "code",
   "execution_count": null,
   "metadata": {},
   "outputs": [],
   "source": [
    "plt.imshow(F1)\n",
    "plt.show()"
   ]
  },
  {
   "cell_type": "markdown",
   "metadata": {
    "id": "3WYbEgB3r4JL"
   },
   "source": [
    "Clustering"
   ]
  },
  {
   "cell_type": "code",
   "execution_count": null,
   "metadata": {},
   "outputs": [],
   "source": [
    "F3, centers = cluster(F1)"
   ]
  },
  {
   "cell_type": "code",
   "execution_count": null,
   "metadata": {},
   "outputs": [],
   "source": [
    "fig,axes = plt.subplots(1,5,figsize=(10,10))\n",
    "for i,ax in enumerate(axes.flat):\n",
    "    ax.imshow(F3[i])"
   ]
  },
  {
   "cell_type": "code",
   "execution_count": null,
   "metadata": {
    "colab": {
     "base_uri": "https://localhost:8080/",
     "height": 301
    },
    "executionInfo": {
     "elapsed": 677,
     "status": "ok",
     "timestamp": 1725480862267,
     "user": {
      "displayName": "Mohammad Mahdi Moradi",
      "userId": "14020835665324614564"
     },
     "user_tz": -210
    },
    "id": "qBJ3ckrmw66c",
    "outputId": "3cf84589-ab33-4878-dfb9-dd7622709087"
   },
   "outputs": [],
   "source": [
    "i = np.copy(F1)\n",
    "\n",
    "for x, y in centers:\n",
    "    plt.imshow(cv.circle(i, (y,x), 15, (255, 255, 255)))"
   ]
  },
  {
   "cell_type": "markdown",
   "metadata": {
    "id": "U3qP56VNn_Df"
   },
   "source": [
    "## Neural Network\n",
    "\n",
    "[Handwriting recognition](https://en.wikipedia.org/wiki/Handwriting_recognition)\n",
    "\n",
    "### Sample\n",
    "\n",
    "- https://www.kaggle.com/code/achintyatripathi/emnist-letter-dataset-97-9-acc-val-acc-91-78\n",
    "\n",
    "- https://www.kaggle.com/code/prajwalkanade/emnist-hand-writing-recognition-using-ann\n",
    "\n",
    "\n"
   ]
  },
  {
   "cell_type": "markdown",
   "metadata": {
    "id": "_S435ckhvggd"
   },
   "source": [
    "### Train"
   ]
  },
  {
   "cell_type": "markdown",
   "metadata": {},
   "source": [
    "load the dataset"
   ]
  },
  {
   "cell_type": "code",
   "execution_count": null,
   "metadata": {
    "editable": true,
    "id": "6lSWW0t1plL8",
    "slideshow": {
     "slide_type": ""
    },
    "tags": []
   },
   "outputs": [],
   "source": [
    "train_set =  np.loadtxt('dataset/kaggleemnist/emnist-balanced-train.csv', delimiter=\",\", dtype=np.int64)\n",
    "train_labels = train_set[:,0]\n",
    "train_images = train_set[:,1:]\n",
    "\n",
    "test_set =  np.loadtxt('dataset/kaggleemnist/emnist-balanced-test.csv', delimiter=\",\", dtype=np.int64)\n",
    "test_labels = test_set[:,0]\n",
    "test_images = test_set[:,1:]"
   ]
  },
  {
   "cell_type": "markdown",
   "metadata": {
    "editable": true,
    "slideshow": {
     "slide_type": ""
    },
    "tags": []
   },
   "source": [
    "check shape of the dataset"
   ]
  },
  {
   "cell_type": "code",
   "execution_count": null,
   "metadata": {
    "colab": {
     "base_uri": "https://localhost:8080/"
    },
    "editable": true,
    "executionInfo": {
     "elapsed": 5,
     "status": "ok",
     "timestamp": 1726088633139,
     "user": {
      "displayName": "Mohammad Mahdi Moradi",
      "userId": "14020835665324614564"
     },
     "user_tz": -210
    },
    "id": "Ki6bErYep5uv",
    "outputId": "94158660-72ff-4809-bbd0-5d1faaeac2dd",
    "slideshow": {
     "slide_type": ""
    },
    "tags": []
   },
   "outputs": [],
   "source": [
    "print(\"Shape of train_set: \\t\", train_set.shape)\n",
    "print(\"Shape of train_images: \\t\", train_images.shape)\n",
    "print(\"Shape of train_labels: \\t\", train_labels.shape)\n",
    "print()\n",
    "print(\"Shape of test_set: \\t\", test_set.shape)\n",
    "print(\"Shape of test_images: \\t\", test_images.shape)\n",
    "print(\"Shape of test_labels: \\t\", test_labels.shape)"
   ]
  },
  {
   "cell_type": "markdown",
   "metadata": {},
   "source": [
    "Creating label dictionary: Running a loop for ASCII equivalent to character conversion"
   ]
  },
  {
   "cell_type": "code",
   "execution_count": null,
   "metadata": {},
   "outputs": [],
   "source": [
    "label_dictionary = {}\n",
    "\n",
    "for index, label in np.loadtxt(\"dataset/kaggleemnist/emnist-balanced-mapping.txt\", delimiter=\" \", dtype=np.int64):\n",
    "    label_dictionary[index] = chr(label)\n",
    "\n",
    "label_dictionary"
   ]
  },
  {
   "cell_type": "markdown",
   "metadata": {},
   "source": [
    "normalise and reshape and transpose images"
   ]
  },
  {
   "cell_type": "code",
   "execution_count": null,
   "metadata": {
    "id": "Zdwjlr6yqwQc"
   },
   "outputs": [],
   "source": [
    "train_images_number = train_images.shape[0]\n",
    "train_images_height = 28\n",
    "train_images_width = 28\n",
    "\n",
    "x_train = train_images.reshape(train_images_number, train_images_height, train_images_width, 1) / 255.0\n",
    "\n",
    "test_images_number = test_images.shape[0]\n",
    "test_images_height = 28\n",
    "test_images_width = 28\n",
    "\n",
    "x_test = test_images.reshape(test_images_number, test_images_height, test_images_width, 1) / 255.0"
   ]
  },
  {
   "cell_type": "markdown",
   "metadata": {},
   "source": [
    "transform labels"
   ]
  },
  {
   "cell_type": "code",
   "execution_count": null,
   "metadata": {
    "id": "opIYAbxKx5VD"
   },
   "outputs": [],
   "source": [
    "number_of_classes = len(np.unique(train_labels))\n",
    "\n",
    "y_train = tf.keras.utils.to_categorical(train_labels, number_of_classes)\n",
    "y_test  = tf.keras.utils.to_categorical(test_labels, number_of_classes)"
   ]
  },
  {
   "cell_type": "markdown",
   "metadata": {},
   "source": [
    "plot the dataset"
   ]
  },
  {
   "cell_type": "code",
   "execution_count": null,
   "metadata": {
    "colab": {
     "base_uri": "https://localhost:8080/",
     "height": 873
    },
    "executionInfo": {
     "elapsed": 6974,
     "status": "ok",
     "timestamp": 1726088644098,
     "user": {
      "displayName": "Mohammad Mahdi Moradi",
      "userId": "14020835665324614564"
     },
     "user_tz": -210
    },
    "id": "qWaQ6xtLrQdc",
    "outputId": "20341eb8-2b92-4dee-e463-cda513ff7aec"
   },
   "outputs": [],
   "source": [
    "fig,axes = plt.subplots(1,5,figsize=(20,20))\n",
    "\n",
    "for i,ax in enumerate(axes.flat):\n",
    "    ax.imshow(x_train[i].reshape(28,28))\n",
    "    ax.set_title(label_dictionary[np.argmax(y_train[i])] + \" \" + str(train_labels[i]))"
   ]
  },
  {
   "cell_type": "markdown",
   "metadata": {},
   "source": [
    "the model"
   ]
  },
  {
   "cell_type": "code",
   "execution_count": null,
   "metadata": {
    "colab": {
     "base_uri": "https://localhost:8080/"
    },
    "executionInfo": {
     "elapsed": 560,
     "status": "ok",
     "timestamp": 1726088657550,
     "user": {
      "displayName": "Mohammad Mahdi Moradi",
      "userId": "14020835665324614564"
     },
     "user_tz": -210
    },
    "id": "oWb5fHC40o2y",
    "outputId": "e3946800-a91f-4d2b-d368-dc850e88b78a"
   },
   "outputs": [],
   "source": [
    "# E4 accuracy: 0.9119 - loss: 0.2270 - val_accuracy: 0.8698 - val_loss: 0.4181 - learning_rate: 2.0000e-04 \n",
    "model = tf.keras.Sequential([\n",
    "    tf.keras.layers.Conv2D(32,3,input_shape=(28,28,1)),\n",
    "    tf.keras.layers.MaxPooling2D(2,2),\n",
    "    tf.keras.layers.Flatten(input_shape=(28,28,1)),\n",
    "    tf.keras.layers.Dense(512,activation='relu'),\n",
    "    tf.keras.layers.Dense(128,activation='relu'),\n",
    "    tf.keras.layers.Dense(number_of_classes,activation='softmax')\n",
    "])\n",
    "\n",
    "model.summary()"
   ]
  },
  {
   "cell_type": "code",
   "execution_count": null,
   "metadata": {},
   "outputs": [],
   "source": [
    "#  E6 - accuracy: 0.9375 - loss: 0.1534 - val_accuracy: 0.8870 - val_loss: 0.3737 - learning_rate: 1.0000e-04\n",
    "model = tf.keras.Sequential()\n",
    "\n",
    "model.add(tf.keras.layers.Conv2D(filters=32, kernel_size=(5,5), padding='same', activation='relu', input_shape=(28,28,1)))\n",
    "model.add(tf.keras.layers.MaxPool2D(strides=2))\n",
    "model.add(tf.keras.layers.Conv2D(filters=48, kernel_size=(5,5), padding='valid', activation='relu'))\n",
    "model.add(tf.keras.layers.MaxPool2D(strides=2))\n",
    "model.add(tf.keras.layers.Flatten())\n",
    "model.add(tf.keras.layers.Dense(256, activation='relu'))\n",
    "model.add(tf.keras.layers.Dense(84, activation='relu'))\n",
    "model.add(tf.keras.layers.Dense(number_of_classes, activation='softmax'))\n",
    "\n",
    "model.summary()"
   ]
  },
  {
   "cell_type": "code",
   "execution_count": null,
   "metadata": {},
   "outputs": [],
   "source": [
    "model.compile(optimizer='adam',loss='categorical_crossentropy',metrics=['accuracy'])"
   ]
  },
  {
   "cell_type": "markdown",
   "metadata": {
    "id": "BZjzx1jA0r7a"
   },
   "source": [
    "check points"
   ]
  },
  {
   "cell_type": "code",
   "execution_count": null,
   "metadata": {
    "id": "wmlWi95syGqI"
   },
   "outputs": [],
   "source": [
    "MCP = ModelCheckpoint('checkpoint2.model.keras', verbose=1, save_best_only=True, monitor='val_accuracy', mode='max')\n",
    "ES = EarlyStopping(monitor='val_accuracy', min_delta=0, verbose=1, restore_best_weights=True, patience=3, mode='max')\n",
    "RLP = ReduceLROnPlateau(monitor='val_loss', patience=1, factor=0.2, min_lr=0.0001, verbose=1)"
   ]
  },
  {
   "cell_type": "markdown",
   "metadata": {},
   "source": [
    "train"
   ]
  },
  {
   "cell_type": "code",
   "execution_count": null,
   "metadata": {
    "colab": {
     "base_uri": "https://localhost:8080/"
    },
    "executionInfo": {
     "elapsed": 132502,
     "status": "ok",
     "timestamp": 1726088800353,
     "user": {
      "displayName": "Mohammad Mahdi Moradi",
      "userId": "14020835665324614564"
     },
     "user_tz": -210
    },
    "id": "-bpG2pChxO2K",
    "outputId": "f259433e-1435-4b28-b3d8-c5ff6c5f592f"
   },
   "outputs": [],
   "source": [
    "history = model.fit(x_train,\n",
    "                    y_train,\n",
    "                    verbose=1,\n",
    "                    epochs=50,\n",
    "                    batch_size=16,\n",
    "                    validation_data=(x_test, y_test),\n",
    "                    callbacks=[MCP,ES,RLP])"
   ]
  },
  {
   "cell_type": "markdown",
   "metadata": {
    "id": "_lc8Lr_xmg1Z"
   },
   "source": [
    "plot history"
   ]
  },
  {
   "cell_type": "code",
   "execution_count": null,
   "metadata": {},
   "outputs": [],
   "source": [
    "plt.plot(history.history['accuracy'])\n",
    "plt.plot(history.history['loss'])\n",
    "plt.plot(history.history['val_accuracy'])\n",
    "plt.plot(history.history['val_loss'])\n",
    "\n",
    "plt.xlabel('Epoch')\n",
    "\n",
    "plt.legend(['accuracy', 'loss','val_accuracy','val_loss'], loc='upper center')\n",
    "\n",
    "plt.grid(axis='y')\n",
    "plt.show()"
   ]
  },
  {
   "cell_type": "code",
   "execution_count": null,
   "metadata": {},
   "outputs": [],
   "source": [
    "plt.plot(history.history['learning_rate'])\n",
    "plt.show()"
   ]
  },
  {
   "cell_type": "markdown",
   "metadata": {
    "id": "HaZxMumd5abT"
   },
   "source": [
    "### Prediction"
   ]
  },
  {
   "cell_type": "markdown",
   "metadata": {},
   "source": [
    "load the model"
   ]
  },
  {
   "cell_type": "code",
   "execution_count": null,
   "metadata": {
    "id": "-t9bdDP1aBMC"
   },
   "outputs": [],
   "source": [
    "mymodel = keras.models.load_model('checkpoint2.model.keras')"
   ]
  },
  {
   "cell_type": "code",
   "execution_count": null,
   "metadata": {
    "id": "8QcbzHkjcn1J"
   },
   "outputs": [],
   "source": [
    "i = cv.copyMakeBorder(cv.resize(charimg[4], (24,24)) ,2,2,2,2,cv.BORDER_CONSTANT).T / 255.0"
   ]
  },
  {
   "cell_type": "code",
   "execution_count": null,
   "metadata": {
    "id": "GnpActJ7aFQH"
   },
   "outputs": [],
   "source": [
    "prob = mymodel.predict(i.reshape((1,28,28,1)))\n",
    "\n",
    "label_dictionary[np.argmax(prob)]"
   ]
  },
  {
   "cell_type": "code",
   "execution_count": null,
   "metadata": {
    "id": "gLgSDMb5wdPC"
   },
   "outputs": [],
   "source": [
    "plt.imshow(i)"
   ]
  },
  {
   "cell_type": "code",
   "execution_count": null,
   "metadata": {},
   "outputs": [],
   "source": []
  },
  {
   "cell_type": "code",
   "execution_count": null,
   "metadata": {
    "colab": {
     "base_uri": "https://localhost:8080/",
     "height": 367
    },
    "executionInfo": {
     "elapsed": 1051,
     "status": "ok",
     "timestamp": 1725482430579,
     "user": {
      "displayName": "Mohammad Mahdi Moradi",
      "userId": "14020835665324614564"
     },
     "user_tz": -210
    },
    "id": "LzzGTtbxczTe",
    "outputId": "1621cc68-17d0-4961-9840-32da5f0e8151"
   },
   "outputs": [],
   "source": [
    "captcha = []\n",
    "\n",
    "for i in range(len(charimg)):\n",
    "    input = cv.copyMakeBorder(cv.resize(charimg[i], (24,24)) ,2,2,2,2,cv.BORDER_CONSTANT).T / 255.0\n",
    "    prob = model.predict(input.reshape((1,28,28,1)))\n",
    "    captcha.append(label_dictionary[np.argmax(prob)])\n",
    "\n",
    "\n",
    "plt.imshow(img)\n",
    "plt.title(\" \".join(captcha))\n",
    "plt.show()"
   ]
  },
  {
   "cell_type": "code",
   "execution_count": null,
   "metadata": {
    "scrolled": true
   },
   "outputs": [],
   "source": [
    "def predict(number):\n",
    "    \n",
    "    text = []\n",
    "    \n",
    "    for i in range(number):\n",
    "    \n",
    "        img = cv.imread(f\"dataset/captchas/{i+1:05}.gif\")\n",
    "    \n",
    "        c,_ = cluster(filter1((img)))\n",
    "    \n",
    "        captcha = []\n",
    "        \n",
    "        for j in range(len(c)):\n",
    "            \n",
    "            inputimg = cv.copyMakeBorder(cv.resize(c[j], (24,24)) ,2,2,2,2,cv.BORDER_CONSTANT).T / 255.0\n",
    "            \n",
    "            prob = mymodel.predict(inputimg.reshape((1,28,28,1)), verbose=0)\n",
    "            \n",
    "            captcha.append(label_dictionary[np.argmax(prob)])\n",
    "        \n",
    "        text.append((i+1,f\"{''.join(captcha)}\"))\n",
    "        \n",
    "        del img, c, captcha\n",
    "\n",
    "    return text\n"
   ]
  },
  {
   "cell_type": "code",
   "execution_count": null,
   "metadata": {},
   "outputs": [],
   "source": [
    "predict(1000)"
   ]
  },
  {
   "cell_type": "code",
   "execution_count": null,
   "metadata": {},
   "outputs": [],
   "source": [
    "    fig,axes = plt.subplots(5,5,figsize=(20,20))\n"
   ]
  },
  {
   "cell_type": "code",
   "execution_count": null,
   "metadata": {},
   "outputs": [],
   "source": [
    "for i in unzip("
   ]
  },
  {
   "cell_type": "code",
   "execution_count": null,
   "metadata": {},
   "outputs": [],
   "source": [
    "        ax.imshow(img, vmin=0, vmax=255)\n",
    "        ax.set_title(f\"{i+1}-{''.join(captcha)}\")\n"
   ]
  }
 ],
 "metadata": {
  "accelerator": "GPU",
  "colab": {
   "authorship_tag": "ABX9TyOS7fKAUUGZoGRl5YStgBtH",
   "collapsed_sections": [
    "CjRN2FD3NI9l",
    "QqArMn4WpGss"
   ],
   "gpuType": "T4",
   "provenance": []
  },
  "kernelspec": {
   "display_name": "MORADI",
   "language": "python",
   "name": "moradi"
  },
  "language_info": {
   "codemirror_mode": {
    "name": "ipython",
    "version": 3
   },
   "file_extension": ".py",
   "mimetype": "text/x-python",
   "name": "python",
   "nbconvert_exporter": "python",
   "pygments_lexer": "ipython3",
   "version": "3.10.15"
  }
 },
 "nbformat": 4,
 "nbformat_minor": 4
}
